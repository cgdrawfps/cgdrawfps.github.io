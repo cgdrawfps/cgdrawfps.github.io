{
  "nbformat": 4,
  "nbformat_minor": 0,
  "metadata": {
    "colab": {
      "name": "Autoencoers.ipynb",
      "provenance": [],
      "collapsed_sections": [],
      "include_colab_link": true
    },
    "kernelspec": {
      "name": "python3",
      "display_name": "Python 3"
    }
  },
  "cells": [
    {
      "cell_type": "markdown",
      "metadata": {
        "id": "view-in-github",
        "colab_type": "text"
      },
      "source": [
        "<a href=\"https://colab.research.google.com/github/cgdrawfps/cgdrawfps.github.io/blob/master/Autoencoers.ipynb\" target=\"_parent\"><img src=\"https://colab.research.google.com/assets/colab-badge.svg\" alt=\"Open In Colab\"/></a>"
      ]
    },
    {
      "cell_type": "markdown",
      "metadata": {
        "id": "jrnTUwIyHm0O",
        "colab_type": "text"
      },
      "source": [
        "**Syllabus**\n",
        "\n",
        "\n",
        "**Machine Learning**\n",
        "*  Convolutions\n",
        "  * 1 D\n",
        "  * Dilated\n",
        "  * Seperable\n",
        "  * Time-Depth\n",
        "*   Autoencoders\n",
        "  * VAE\n",
        "  * PCA\n",
        "  * Sparse\n",
        "* Fundamentals\n",
        "  * Loss\n",
        "  * Regularization\n",
        "  * Dropout\n",
        "* Networks\n",
        "  * Transformer\n",
        "  * U-net\n",
        "  * VGG\n",
        "* Optimization\n",
        "  * Adam\n",
        "  * SGD\n",
        "  * Autograd\n",
        "\n",
        "**NLP**\n",
        "* Language Modelling\n",
        "  * Transformers\n",
        "  * Bert\n",
        "* Speech Recognition\n",
        "  * Seq2seq\n",
        "  * CTC\n",
        "  * WFSTS\n",
        "\n",
        "**Computer Vision**\n",
        "\n",
        "**Programming**\n",
        "* Python\n",
        "  * Broadcasting\n",
        "  * Currying\n",
        "  * Lambda\n",
        "  * Comprehensions\n",
        "* C++\n",
        "* Objective C\n",
        "* Swift\n",
        "* Algorithms\n",
        "  * B-trees\n",
        "  * Recursion\n",
        "  * Edit distances\n",
        "**Links**\n",
        "\n",
        "https://github.com/huggingface/transformers\n",
        "https://mlexplained.com/2019/01/07/paper-dissected-bert-pre-training-of-deep-bidirectional-transformers-for-language-understanding-explained/\n",
        "\n",
        "**Bert**\n",
        "\n",
        " * Uses transformer instead of RNN\n",
        " * Uses wordpiece instead of wors - reduce vocab size\n",
        " * Bidirectional \n",
        " * Mask out random words instead of next word and next sentence prediction training\n",
        " * Fine tune to task\n",
        "\n",
        " **MelGAN**\n",
        "  * Paper  https://arxiv.org/abs/1910.06711\n",
        "  * Implementation https://github.com/seungwonpark/melgan\n",
        "\n",
        "\n",
        "**Acoustic Modelling** \n",
        "  * Transformer https://arxiv.org/pdf/1910.01493.pdf\n",
        "  * CTC \n",
        "\n",
        "**Courses**\n",
        "  * https://fleuret.org/ee559/\n",
        "\n",
        "\n",
        "**Recent Advances in Acoustic Modelling**\n",
        "\n",
        "https://arxiv.org/pdf/1910.12367.pdf\n"
      ]
    },
    {
      "cell_type": "code",
      "metadata": {
        "id": "r1ZTOxziPDGC",
        "colab_type": "code",
        "outputId": "67305c71-1e64-43e8-fbd7-9bc84e62ec68",
        "colab": {
          "base_uri": "https://localhost:8080/",
          "height": 119
        }
      },
      "source": [
        "!pip install torchvision\n",
        "import torch\n",
        "import torchvision\n",
        "import torch.nn as nn\n",
        "import numpy as np\n",
        "%matplotlib inline\n",
        "import matplotlib.pyplot as plt\n",
        "import torch.nn.functional as F\n",
        "import torchvision.datasets as ds\n",
        "import torchvision.transforms as transforms\n",
        "from torch.autograd import Variable\n",
        "import matplotlib.pyplot as plt"
      ],
      "execution_count": 5,
      "outputs": [
        {
          "output_type": "stream",
          "text": [
            "Requirement already satisfied: torchvision in /usr/local/lib/python3.6/dist-packages (0.4.1+cu100)\n",
            "Requirement already satisfied: pillow>=4.1.1 in /usr/local/lib/python3.6/dist-packages (from torchvision) (4.3.0)\n",
            "Requirement already satisfied: numpy in /usr/local/lib/python3.6/dist-packages (from torchvision) (1.17.3)\n",
            "Requirement already satisfied: torch==1.3.0 in /usr/local/lib/python3.6/dist-packages (from torchvision) (1.3.0+cu100)\n",
            "Requirement already satisfied: six in /usr/local/lib/python3.6/dist-packages (from torchvision) (1.12.0)\n",
            "Requirement already satisfied: olefile in /usr/local/lib/python3.6/dist-packages (from pillow>=4.1.1->torchvision) (0.46)\n"
          ],
          "name": "stdout"
        }
      ]
    },
    {
      "cell_type": "code",
      "metadata": {
        "id": "q-TANizTX90I",
        "colab_type": "code",
        "colab": {}
      },
      "source": [
        "train_data = ds.MNIST(root = './data', train = True,\n",
        "                        transform = transforms.ToTensor(), download = True)\n",
        "\n",
        "test_data = ds.MNIST(root = './data', train = False,\n",
        "                       transform = transforms.ToTensor())\n",
        "\n",
        "batch_size = 100\n",
        "\n",
        "train_loader = torch.utils.data.DataLoader(\n",
        "                 dataset=train_data,\n",
        "                 batch_size=batch_size,\n",
        "                 shuffle=True)\n",
        "test_loader = torch.utils.data.DataLoader(\n",
        "                dataset=test_data,\n",
        "                batch_size=1,\n",
        "                shuffle=False)"
      ],
      "execution_count": 0,
      "outputs": []
    },
    {
      "cell_type": "code",
      "metadata": {
        "id": "wE9ohUn0_1Bq",
        "colab_type": "code",
        "colab": {}
      },
      "source": [
        "class AutoEncoder(nn.Module):\n",
        "  def __init__(self, num_pixels, num_hidden):\n",
        "    super(AutoEncoder, self).__init__()\n",
        "    self.enc1 = nn.Linear(num_pixels, num_hidden * 2)\n",
        "    self.enc2 = nn.Linear(num_hidden * 2, num_hidden)\n",
        "    self.dec = nn.Linear(num_hidden, num_pixels)\n",
        "\n",
        "  def forward(self, X):\n",
        "    h1 = F.relu(self.enc1(X))\n",
        "    h2 = F.relu(self.enc2(h1))\n",
        "    return F.relu(self.dec(h2))\n",
        "\n",
        "  def gumbel_softmax(logits, temperature, hard=False):\n",
        "    pass"
      ],
      "execution_count": 0,
      "outputs": []
    },
    {
      "cell_type": "code",
      "metadata": {
        "id": "7y2ULqZpeozB",
        "colab_type": "code",
        "colab": {}
      },
      "source": [
        "class CNNAutoEncoder(nn.Module):\n",
        "  def __init__(self):\n",
        "    super(CNNAutoEncoder, self).__init__()\n",
        "    ## encoder layers ##\n",
        "    self.conv1 = nn.Conv2d(1, 16, 3, padding=1)  \n",
        "    self.conv2 = nn.Conv2d(16, 4, 3, padding=1)\n",
        "    self.pool = nn.MaxPool2d(2, 2)\n",
        "    \n",
        "    ## decoder layers ##\n",
        "    ## a kernel of 2 and a stride of 2 will increase the spatial dims by 2\n",
        "    self.t_conv1 = nn.ConvTranspose2d(4, 16, 2, stride=2)\n",
        "    self.t_conv2 = nn.ConvTranspose2d(16, 1, 2, stride=2)\n",
        "    \n",
        "  def forward(self, X):\n",
        "    ## encode ##\n",
        "    # add hidden layers with relu activation function\n",
        "    # and maxpooling after\n",
        "    x = F.relu(self.conv1(X))\n",
        "    x = self.pool(x)\n",
        "    # add second hidden layer\n",
        "    x = F.relu(self.conv2(x))\n",
        "    x = self.pool(x)  # compressed representation\n",
        "    \n",
        "    ## decode ##\n",
        "    # add transpose conv layers, with relu activation function\n",
        "    x = F.relu(self.t_conv1(x))\n",
        "    # output layer (with sigmoid for scaling from 0 to 1)\n",
        "    x = F.sigmoid(self.t_conv2(x))\n",
        "    return x\n"
      ],
      "execution_count": 0,
      "outputs": []
    },
    {
      "cell_type": "code",
      "metadata": {
        "id": "1zgQkwAPyJKX",
        "colab_type": "code",
        "outputId": "9cec8898-b9f5-4afe-b1f0-5ca6b1e4495f",
        "colab": {
          "base_uri": "https://localhost:8080/",
          "height": 51
        }
      },
      "source": [
        "#ae = AutoEncoder(784,20)\n",
        "ae = CNNAutoEncoder()\n",
        "criterion = torch.nn.MSELoss()\n",
        "optimizer = torch.optim.Adam(ae.parameters(), lr = 0.01)\n",
        "for epoch in range(10):\n",
        "    # trainning\n",
        "    ave_loss = 0\n",
        "    for batch_idx, (X, y) in enumerate(train_loader):\n",
        "        optimizer.zero_grad()\n",
        "        #if use_cuda:\n",
        "        #    x, target = x.cuda(), target.cuda()\n",
        "        #X = Variable(X).view(-1, 784)\n",
        "        out = ae(X)\n",
        "        loss = criterion(out, X)\n",
        "        loss.backward()\n",
        "        optimizer.step()"
      ],
      "execution_count": 0,
      "outputs": [
        {
          "output_type": "stream",
          "text": [
            "/usr/local/lib/python3.6/dist-packages/torch/nn/functional.py:1351: UserWarning: nn.functional.sigmoid is deprecated. Use torch.sigmoid instead.\n",
            "  warnings.warn(\"nn.functional.sigmoid is deprecated. Use torch.sigmoid instead.\")\n"
          ],
          "name": "stderr"
        }
      ]
    },
    {
      "cell_type": "code",
      "metadata": {
        "id": "3P1iH68Hyeaw",
        "colab_type": "code",
        "outputId": "d3e43b72-fb92-430a-f37e-0f777b5efd63",
        "colab": {
          "base_uri": "https://localhost:8080/",
          "height": 34
        }
      },
      "source": [
        "out.shape"
      ],
      "execution_count": 0,
      "outputs": [
        {
          "output_type": "execute_result",
          "data": {
            "text/plain": [
              "torch.Size([100, 1, 28, 28])"
            ]
          },
          "metadata": {
            "tags": []
          },
          "execution_count": 24
        }
      ]
    },
    {
      "cell_type": "code",
      "metadata": {
        "id": "xbc5XexXyoru",
        "colab_type": "code",
        "outputId": "acabb6fd-4a29-4c68-a5fa-d59d4bf5a9d0",
        "colab": {
          "base_uri": "https://localhost:8080/",
          "height": 51
        }
      },
      "source": [
        "for batch_idx, (X, y) in enumerate(test_loader):\n",
        "  y = ae.forward(X)\n",
        "  loss = criterion(X, y)\n",
        "y = y.view(28,28).detach().numpy()\n",
        "X = X.view(28,28).detach().numpy()\n",
        "\n"
      ],
      "execution_count": 0,
      "outputs": [
        {
          "output_type": "stream",
          "text": [
            "/usr/local/lib/python3.6/dist-packages/torch/nn/functional.py:1351: UserWarning: nn.functional.sigmoid is deprecated. Use torch.sigmoid instead.\n",
            "  warnings.warn(\"nn.functional.sigmoid is deprecated. Use torch.sigmoid instead.\")\n"
          ],
          "name": "stderr"
        }
      ]
    },
    {
      "cell_type": "code",
      "metadata": {
        "id": "iQD5ovaj4YDb",
        "colab_type": "code",
        "outputId": "6f479785-c801-4947-a3ab-09f238d03b0f",
        "colab": {
          "base_uri": "https://localhost:8080/",
          "height": 265
        }
      },
      "source": [
        "plt.figure(figsize=(20, 4))\n",
        "plt.imshow(y)\n",
        "plt.gray()"
      ],
      "execution_count": 0,
      "outputs": [
        {
          "output_type": "display_data",
          "data": {
            "image/png": "[encoded data removed]",
            "text/plain": [
              "<Figure size 1440x288 with 1 Axes>"
            ]
          },
          "metadata": {
            "tags": []
          }
        }
      ]
    },
    {
      "cell_type": "code",
      "metadata": {
        "id": "jnicAjPQ8uLI",
        "colab_type": "code",
        "outputId": "68e9c89a-d0b5-465a-e26f-b8cc4abdbec6",
        "colab": {
          "base_uri": "https://localhost:8080/",
          "height": 265
        }
      },
      "source": [
        "plt.figure(figsize=(20, 4))\n",
        "plt.imshow(X)\n",
        "plt.gray()"
      ],
      "execution_count": 0,
      "outputs": [
        {
          "output_type": "display_data",
          "data": {
            "image/png": "[encoded data removed]",
            "text/plain": [
              "<Figure size 1440x288 with 1 Axes>"
            ]
          },
          "metadata": {
            "tags": []
          }
        }
      ]
    },
    {
      "cell_type": "code",
      "metadata": {
        "id": "SnBYUfQj9EJD",
        "colab_type": "code",
        "colab": {}
      },
      "source": [
        ""
      ],
      "execution_count": 0,
      "outputs": []
    },
    {
      "cell_type": "code",
      "metadata": {
        "id": "4uWJ-fAP-fIF",
        "colab_type": "code",
        "outputId": "a3cdff93-d4eb-4d88-dead-eaa7a61fb286",
        "colab": {
          "base_uri": "https://localhost:8080/",
          "height": 34
        }
      },
      "source": [
        "\n"
      ],
      "execution_count": 0,
      "outputs": [
        {
          "output_type": "display_data",
          "data": {
            "text/plain": [
              "<Figure size 1440x288 with 0 Axes>"
            ]
          },
          "metadata": {
            "tags": []
          }
        }
      ]
    },
    {
      "cell_type": "code",
      "metadata": {
        "id": "Gs5qI9Iz-nC2",
        "colab_type": "code",
        "outputId": "6cf5a714-a371-44d6-8f9b-7b375cccc5c1",
        "colab": {
          "base_uri": "https://localhost:8080/",
          "height": 265
        }
      },
      "source": [
        ""
      ],
      "execution_count": 0,
      "outputs": [
        {
          "output_type": "display_data",
          "data": {
            "image/png": "[encoded data removed]",
            "text/plain": [
              "<Figure size 432x288 with 1 Axes>"
            ]
          },
          "metadata": {
            "tags": []
          }
        }
      ]
    },
    {
      "cell_type": "code",
      "metadata": {
        "id": "wtmXV3ASAYyT",
        "colab_type": "code",
        "colab": {}
      },
      "source": [
        ""
      ],
      "execution_count": 0,
      "outputs": []
    },
    {
      "cell_type": "code",
      "metadata": {
        "id": "ja28_x63Aenb",
        "colab_type": "code",
        "colab": {
          "base_uri": "https://localhost:8080/",
          "height": 51
        },
        "outputId": "a9add376-57d6-43ee-97cb-ea0bbe45995e"
      },
      "source": [
        "x = torch.tensor([[[0., 0., 1., 0., 0., 0., 0.]]])\n",
        "k = torch.tensor([[[1., 2., 3.]]])\n",
        "y = F.conv_transpose1d(x, k)\n",
        "x = torch.tensor([[[1., 1., 1., 1., 1., 1., 1.]]])\n",
        "m = nn.ConvTranspose1d(1, 1, kernel_size=3, stride=1, padding=0, dilation=1)\n",
        "m.bias.data.zero_()\n",
        "m.weight.data.copy_(torch.tensor([ 1, 1, 1 ]))\n",
        "y = m(x)\n",
        "print(y.shape)\n",
        "print(y)"
      ],
      "execution_count": 62,
      "outputs": [
        {
          "output_type": "stream",
          "text": [
            "torch.Size([1, 1, 9])\n",
            "tensor([[[1., 2., 3., 3., 3., 3., 3., 2., 1.]]], grad_fn=<SqueezeBackward1>)\n"
          ],
          "name": "stdout"
        }
      ]
    },
    {
      "cell_type": "markdown",
      "metadata": {
        "id": "YhUyQuugWhRC",
        "colab_type": "text"
      },
      "source": [
        "Transposed Convolutions\n",
        "\n",
        "$\\sum_x$\n"
      ]
    },
    {
      "cell_type": "code",
      "metadata": {
        "id": "I3MC3E7n7lsp",
        "colab_type": "code",
        "colab": {}
      },
      "source": [
        ""
      ],
      "execution_count": 0,
      "outputs": []
    }
  ]
}